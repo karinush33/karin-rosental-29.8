{
 "cells": [
  {
   "cell_type": "code",
   "execution_count": 2,
   "id": "c2a44462-6e04-42c8-8373-a1b69ed93b4e",
   "metadata": {},
   "outputs": [],
   "source": [
    "import numpy as np"
   ]
  },
  {
   "cell_type": "code",
   "execution_count": 5,
   "id": "d36da488-581e-4d0c-902e-b51f57ff07e8",
   "metadata": {},
   "outputs": [
    {
     "name": "stdout",
     "output_type": "stream",
     "text": [
      "[10 20 30 40]\n"
     ]
    }
   ],
   "source": [
    "# Answer for: 1. Create a NumPy array from the list `[10, 20, 30, 40]`.\n",
    "new = np.array ([10,20,30,40])\n",
    "print(new)"
   ]
  },
  {
   "cell_type": "code",
   "execution_count": 7,
   "id": "3603168d-d979-4723-a788-0c1c59e6dc08",
   "metadata": {},
   "outputs": [],
   "source": [
    "sh= np.array([2, 4, 6, 8, 10, 12, 14, 16])"
   ]
  },
  {
   "cell_type": "code",
   "execution_count": 10,
   "id": "eebe4974-ce15-4099-bc99-17c72da90a8d",
   "metadata": {},
   "outputs": [
    {
     "name": "stdout",
     "output_type": "stream",
     "text": [
      "[[ 2  4]\n",
      " [ 6  8]\n",
      " [10 12]\n",
      " [14 16]]\n"
     ]
    }
   ],
   "source": [
    "# Answer for: 2. Reshape the array `np.array([2, 4, 6, 8, 10, 12, 14, 16])` into:\n",
    "new_sh= sh.reshape(4,2)\n",
    "print(new_sh)"
   ]
  },
  {
   "cell_type": "code",
   "execution_count": 13,
   "id": "21c53f07-e757-4db5-8616-c381302918b1",
   "metadata": {},
   "outputs": [
    {
     "name": "stdout",
     "output_type": "stream",
     "text": [
      "[[ 2  4  6  8]\n",
      " [10 12 14 16]]\n"
     ]
    }
   ],
   "source": [
    "# Answer for: * Shape `(4, 2)`\n",
    "new_sh= sh.reshape(2,4)\n",
    "print(new_sh)"
   ]
  },
  {
   "cell_type": "code",
   "execution_count": 14,
   "id": "9831acb8-0c60-4504-8e1c-d51fb87b0f8d",
   "metadata": {},
   "outputs": [],
   "source": [
    "a = np.array([[6, 7, 8, 9], [7, 8, 9, 10]])"
   ]
  },
  {
   "cell_type": "code",
   "execution_count": 18,
   "id": "62ab63cc-c75f-4a51-a378-9478565fa461",
   "metadata": {},
   "outputs": [
    {
     "data": {
      "text/plain": [
       "(2, 4)"
      ]
     },
     "execution_count": 18,
     "metadata": {},
     "output_type": "execute_result"
    }
   ],
   "source": [
    "a.shape"
   ]
  },
  {
   "cell_type": "code",
   "execution_count": 19,
   "id": "13390697-13d2-4432-9720-3e84aee97f50",
   "metadata": {},
   "outputs": [
    {
     "data": {
      "text/plain": [
       "2"
      ]
     },
     "execution_count": 19,
     "metadata": {},
     "output_type": "execute_result"
    }
   ],
   "source": [
    "len(a)"
   ]
  },
  {
   "cell_type": "code",
   "execution_count": 20,
   "id": "058e775e-6cdb-4a41-ba5a-a9efad6fd054",
   "metadata": {},
   "outputs": [
    {
     "data": {
      "text/plain": [
       "2"
      ]
     },
     "execution_count": 20,
     "metadata": {},
     "output_type": "execute_result"
    }
   ],
   "source": [
    "a.ndim"
   ]
  },
  {
   "cell_type": "code",
   "execution_count": 21,
   "id": "8f0226de-392c-4824-9af2-6e983a7ac21d",
   "metadata": {},
   "outputs": [
    {
     "data": {
      "text/plain": [
       "8"
      ]
     },
     "execution_count": 21,
     "metadata": {},
     "output_type": "execute_result"
    }
   ],
   "source": [
    "a.size"
   ]
  },
  {
   "cell_type": "code",
   "execution_count": 22,
   "id": "2c0654e0-7969-4c50-a930-76b2d9c6c6eb",
   "metadata": {},
   "outputs": [
    {
     "data": {
      "text/plain": [
       "dtype('int64')"
      ]
     },
     "execution_count": 22,
     "metadata": {},
     "output_type": "execute_result"
    }
   ],
   "source": [
    "a.dtype"
   ]
  },
  {
   "cell_type": "code",
   "execution_count": 23,
   "id": "40860c24-78b7-4a53-8cc5-e067dfcf9845",
   "metadata": {},
   "outputs": [
    {
     "name": "stdout",
     "output_type": "stream",
     "text": [
      "[[0. 0. 0. 0. 0. 0.]\n",
      " [0. 0. 0. 0. 0. 0.]]\n"
     ]
    }
   ],
   "source": [
    "# Answer for: 4. Create a 2×6 array filled with zeros\n",
    "b = np.zeros((2, 6))\n",
    "print(b)"
   ]
  },
  {
   "cell_type": "code",
   "execution_count": 26,
   "id": "b56221d0-4fef-4e21-999f-5e08bdf6f3a4",
   "metadata": {},
   "outputs": [
    {
     "name": "stdout",
     "output_type": "stream",
     "text": [
      "[[1. 1. 1.]\n",
      " [1. 1. 1.]\n",
      " [1. 1. 1.]]\n"
     ]
    }
   ],
   "source": [
    "# Answer for: 5. Create a 3×3 array filled with ones\n",
    "c= np.ones((3,3))\n",
    "print(c)"
   ]
  },
  {
   "cell_type": "code",
   "execution_count": 27,
   "id": "7cf67e70-16a5-46b6-bc7a-42666cabdfe8",
   "metadata": {},
   "outputs": [
    {
     "name": "stdout",
     "output_type": "stream",
     "text": [
      "[[0.08717238 0.65804037]\n",
      " [0.16194521 0.4733773 ]\n",
      " [0.20234238 0.6044926 ]\n",
      " [0.69665426 0.32472315]\n",
      " [0.15757487 0.48430076]]\n"
     ]
    }
   ],
   "source": [
    "# Answer for: 6. Create a 5×2 array with random floats between 0 and 1\n",
    "d= np.random.random((5, 2))\n",
    "print(d)"
   ]
  },
  {
   "cell_type": "code",
   "execution_count": 28,
   "id": "c64f772a-63aa-47b0-8eb1-2cafe886394e",
   "metadata": {},
   "outputs": [
    {
     "name": "stdout",
     "output_type": "stream",
     "text": [
      "[[ 81 107  63  79]\n",
      " [ 60 144 139 149]\n",
      " [134 143 110 124]\n",
      " [ 66  90 127 139]]\n"
     ]
    }
   ],
   "source": [
    "# Answer for: 7. Create a 4×4 array with random integers between 50 and 150\n",
    "e= np.random.randint(50, 150, (4,4))\n",
    "print(e)"
   ]
  },
  {
   "cell_type": "code",
   "execution_count": 31,
   "id": "1fd6c8ac-44b7-4369-b890-12dbedff726c",
   "metadata": {},
   "outputs": [
    {
     "name": "stdout",
     "output_type": "stream",
     "text": [
      "[[14 35 13 29 33]\n",
      " [49 38 24 33 18]]\n"
     ]
    }
   ],
   "source": [
    "# Answer for: 8. Using `np.random.seed(7)`, generate a 2×5 array of random integers between 5 and 20\n",
    "np.random.seed(7)\n",
    "f = np.random.randint(10, 50, (2, 5))\n",
    "print(f)"
   ]
  },
  {
   "cell_type": "code",
   "execution_count": 32,
   "id": "00ca6cc0-0ea1-4e06-88d5-26d7995a72c8",
   "metadata": {},
   "outputs": [
    {
     "name": "stdout",
     "output_type": "stream",
     "text": [
      "[[14 35]\n",
      " [13 29]\n",
      " [33 49]\n",
      " [38 24]\n",
      " [33 18]]\n"
     ]
    }
   ],
   "source": [
    "# Answer for: 9. Reshape the array from question 8 into shape `(5, 2)`\n",
    "g= f.reshape(5,2)\n",
    "print(g)"
   ]
  },
  {
   "cell_type": "code",
   "execution_count": 33,
   "id": "848d0fda-979a-40f2-a7d3-8e413fe178e4",
   "metadata": {},
   "outputs": [
    {
     "name": "stdout",
     "output_type": "stream",
     "text": [
      "[ 5 10 15 20 25]\n"
     ]
    }
   ],
   "source": [
    "# Answer for: 10. Create a 1D array of numbers from 5 to 25 with step size 5\n",
    "h = np.arange(5, 26, 5)\n",
    "print(h)"
   ]
  },
  {
   "cell_type": "code",
   "execution_count": 35,
   "id": "084981e0-b94d-4a36-88b5-0492170347c2",
   "metadata": {},
   "outputs": [
    {
     "name": "stdout",
     "output_type": "stream",
     "text": [
      "[-1.  -0.6 -0.2  0.2  0.6  1. ]\n"
     ]
    }
   ],
   "source": [
    "# Answer for: 11. Create an array of 6 equally spaced numbers between -1 and 1\n",
    "i = np.linspace(-1, 1, 6)\n",
    "print(i)"
   ]
  },
  {
   "cell_type": "code",
   "execution_count": 80,
   "id": "9481d31a-a21a-4083-8c87-fdb5277cb2f4",
   "metadata": {},
   "outputs": [],
   "source": [
    "a = np.array([2, 4, 6])\n",
    "b = np.array([1, 3, 5])"
   ]
  },
  {
   "cell_type": "code",
   "execution_count": 81,
   "id": "a73a36b7-9d4e-4a26-8e0e-cba8e6612788",
   "metadata": {},
   "outputs": [
    {
     "data": {
      "text/plain": [
       "array([ 3,  7, 11])"
      ]
     },
     "execution_count": 81,
     "metadata": {},
     "output_type": "execute_result"
    }
   ],
   "source": [
    "a+b"
   ]
  },
  {
   "cell_type": "code",
   "execution_count": 82,
   "id": "5e90d9f3-41a2-4798-a073-b6e7d1d69f13",
   "metadata": {},
   "outputs": [
    {
     "data": {
      "text/plain": [
       "array([1, 1, 1])"
      ]
     },
     "execution_count": 82,
     "metadata": {},
     "output_type": "execute_result"
    }
   ],
   "source": [
    "a - b"
   ]
  },
  {
   "cell_type": "code",
   "execution_count": 83,
   "id": "feef42ee-5f3f-4ba9-8ff3-e8e3eab205e5",
   "metadata": {},
   "outputs": [
    {
     "data": {
      "text/plain": [
       "array([ 2, 12, 30])"
      ]
     },
     "execution_count": 83,
     "metadata": {},
     "output_type": "execute_result"
    }
   ],
   "source": [
    "a * b"
   ]
  },
  {
   "cell_type": "code",
   "execution_count": 84,
   "id": "d65080d3-3138-4492-8bf8-208d3b7c8850",
   "metadata": {},
   "outputs": [
    {
     "data": {
      "text/plain": [
       "array([2.        , 1.33333333, 1.2       ])"
      ]
     },
     "execution_count": 84,
     "metadata": {},
     "output_type": "execute_result"
    }
   ],
   "source": [
    "a / b"
   ]
  },
  {
   "cell_type": "code",
   "execution_count": 85,
   "id": "547f5434-efea-49a4-acf9-883e5dd01ccb",
   "metadata": {},
   "outputs": [
    {
     "data": {
      "text/plain": [
       "array([  8,  64, 216])"
      ]
     },
     "execution_count": 85,
     "metadata": {},
     "output_type": "execute_result"
    }
   ],
   "source": [
    "a ** 3"
   ]
  },
  {
   "cell_type": "code",
   "execution_count": 86,
   "id": "3a262b3b-959a-47a6-b1af-decbe0b86c5d",
   "metadata": {},
   "outputs": [],
   "source": [
    "a = np.array([2, 4, 6, 100])"
   ]
  },
  {
   "cell_type": "code",
   "execution_count": 87,
   "id": "b6a38cb2-4855-4668-a403-b6992886a6ac",
   "metadata": {},
   "outputs": [
    {
     "data": {
      "text/plain": [
       "np.float64(28.0)"
      ]
     },
     "execution_count": 87,
     "metadata": {},
     "output_type": "execute_result"
    }
   ],
   "source": [
    "# compute the mean\n",
    "a.mean()"
   ]
  },
  {
   "cell_type": "code",
   "execution_count": 36,
   "id": "fe08f882-8296-4436-86e9-4a9cc250ecdc",
   "metadata": {},
   "outputs": [],
   "source": [
    "B = np.array([[2, 4, 6], [8, 10, 12], [14, 16, 18]])"
   ]
  },
  {
   "cell_type": "code",
   "execution_count": 38,
   "id": "01c51e69-5af9-485a-b125-e97fd63cde13",
   "metadata": {},
   "outputs": [
    {
     "name": "stdout",
     "output_type": "stream",
     "text": [
      "16\n"
     ]
    }
   ],
   "source": [
    "# The element at row 2, column 1\n",
    "print (B[2,1])"
   ]
  },
  {
   "cell_type": "code",
   "execution_count": 40,
   "id": "4d48fe1d-6d1b-48ac-8b75-1339e0d52f55",
   "metadata": {},
   "outputs": [
    {
     "name": "stdout",
     "output_type": "stream",
     "text": [
      "[ 2  8 14]\n"
     ]
    }
   ],
   "source": [
    "# All elements from column 0\n",
    "print(B[:, 0])"
   ]
  },
  {
   "cell_type": "code",
   "execution_count": 41,
   "id": "5f5f12e9-4404-4a0c-b9ff-06d1f1ff79c5",
   "metadata": {},
   "outputs": [
    {
     "name": "stdout",
     "output_type": "stream",
     "text": [
      "[14 16 18]\n"
     ]
    }
   ],
   "source": [
    "# All elements from row 2\n",
    "print(B[2, :])"
   ]
  },
  {
   "cell_type": "code",
   "execution_count": 43,
   "id": "e5d7bec9-c1a1-4a0e-9dc9-ae3c7c0c2e23",
   "metadata": {},
   "outputs": [],
   "source": [
    "s= np.array([12, 4, 9, 1])"
   ]
  },
  {
   "cell_type": "code",
   "execution_count": 49,
   "id": "8840df33-a138-48e1-929a-77be0501e054",
   "metadata": {},
   "outputs": [
    {
     "name": "stdout",
     "output_type": "stream",
     "text": [
      "[ 1  4  9 12]\n"
     ]
    }
   ],
   "source": [
    "# *Bonus: Sort the array np.array([12, 4, 9, 1])\n",
    "s.sort()\n",
    "print(s)"
   ]
  },
  {
   "cell_type": "code",
   "execution_count": 52,
   "id": "2bd1de97-7978-4b8d-a0db-374bd434b0ef",
   "metadata": {},
   "outputs": [],
   "source": [
    "# *Bonus: Sort the array S = np.array([[9, 7, 8], [3, 2, 1]]) by rows and by columns\n",
    "S = np.array([[9, 7, 8], [3, 2, 1]])"
   ]
  },
  {
   "cell_type": "code",
   "execution_count": 55,
   "id": "6e26a0de-44e5-48d2-9fcd-410feef3d821",
   "metadata": {},
   "outputs": [
    {
     "data": {
      "text/plain": [
       "array([[3, 2, 1],\n",
       "       [9, 7, 8]])"
      ]
     },
     "execution_count": 55,
     "metadata": {},
     "output_type": "execute_result"
    }
   ],
   "source": [
    "np.sort(S, axis=0) "
   ]
  },
  {
   "cell_type": "code",
   "execution_count": 56,
   "id": "f43a4dc6-2f7e-4047-9f6a-6e5ddfa318ee",
   "metadata": {},
   "outputs": [
    {
     "data": {
      "text/plain": [
       "array([[7, 8, 9],\n",
       "       [1, 2, 3]])"
      ]
     },
     "execution_count": 56,
     "metadata": {},
     "output_type": "execute_result"
    }
   ],
   "source": [
    "np.sort(S, axis=1) "
   ]
  },
  {
   "cell_type": "code",
   "execution_count": 57,
   "id": "975a65d4-b774-477d-9ba5-383081a9c9a6",
   "metadata": {},
   "outputs": [
    {
     "data": {
      "text/plain": [
       "array([[38, 28, 14, 42],\n",
       "       [ 7, 20, 38, 18],\n",
       "       [22, 10, 10, 23]], dtype=int32)"
      ]
     },
     "execution_count": 57,
     "metadata": {},
     "output_type": "execute_result"
    }
   ],
   "source": [
    "# Generate a 3×4 array of random integers between 0 and 50 with np.random.seed(11)\n",
    "np.random.seed(42) \n",
    "np.random.randint(0, 51, (3, 4))"
   ]
  },
  {
   "cell_type": "code",
   "execution_count": 58,
   "id": "5b78e7bd-4b04-4a43-b820-aae001ab3803",
   "metadata": {},
   "outputs": [],
   "source": [
    "# From a = np.array([5, 15, 25, 35, 45]), extract all values greater than the mean\n",
    "a = np.array([5, 15, 25, 35, 45])"
   ]
  },
  {
   "cell_type": "code",
   "execution_count": 59,
   "id": "c2d0ac13-5a79-46ff-a96e-38f4dc6b3867",
   "metadata": {},
   "outputs": [
    {
     "data": {
      "text/plain": [
       "array([35, 45])"
      ]
     },
     "execution_count": 59,
     "metadata": {},
     "output_type": "execute_result"
    }
   ],
   "source": [
    "a[a > np.mean(a)]"
   ]
  },
  {
   "cell_type": "code",
   "execution_count": 90,
   "id": "e4d481d8-ec70-4a9d-8c5b-dc90f4ab3e7a",
   "metadata": {},
   "outputs": [],
   "source": [
    "# Given a = np.array([2, 4, 6, 8, 10, 12]), extract:\n",
    "a = np.array([2, 4, 6, 8, 10, 12])"
   ]
  },
  {
   "cell_type": "code",
   "execution_count": 91,
   "id": "1fb3a59a-8493-4d91-9ca3-a9eeea37df45",
   "metadata": {},
   "outputs": [
    {
     "data": {
      "text/plain": [
       "array([ 8, 12])"
      ]
     },
     "execution_count": 91,
     "metadata": {},
     "output_type": "execute_result"
    }
   ],
   "source": [
    "# Elements greater than 5 and divisible by 4\n",
    "a[(a > 5) & (a % 4 == 0)]"
   ]
  },
  {
   "cell_type": "code",
   "execution_count": 63,
   "id": "50fae4fe-ad6f-49b6-8461-87715cfac0dc",
   "metadata": {},
   "outputs": [
    {
     "data": {
      "text/plain": [
       "array([ 2,  4, 10, 12])"
      ]
     },
     "execution_count": 63,
     "metadata": {},
     "output_type": "execute_result"
    }
   ],
   "source": [
    "# Elements less than 5 or greater than 9\n",
    "a[(a < 5) | (a >9)]"
   ]
  },
  {
   "cell_type": "code",
   "execution_count": 64,
   "id": "60b6744f-d4e1-45f0-8472-9dda32cb98b6",
   "metadata": {},
   "outputs": [
    {
     "data": {
      "text/plain": [
       "array([2, 4, 6])"
      ]
     },
     "execution_count": 64,
     "metadata": {},
     "output_type": "execute_result"
    }
   ],
   "source": [
    "# Elements not greater than 7\n",
    "a[~(a > 7)]"
   ]
  },
  {
   "cell_type": "code",
   "execution_count": 65,
   "id": "59cee69d-3563-4f08-938b-d7747e897d57",
   "metadata": {},
   "outputs": [],
   "source": [
    "a = np.array([42, 7, 19, 88])"
   ]
  },
  {
   "cell_type": "code",
   "execution_count": 66,
   "id": "6db4479d-4bb0-445b-8b95-90b5b7623a9c",
   "metadata": {},
   "outputs": [
    {
     "data": {
      "text/plain": [
       "np.int64(1)"
      ]
     },
     "execution_count": 66,
     "metadata": {},
     "output_type": "execute_result"
    }
   ],
   "source": [
    "# The index of the minimum element\n",
    "np.argmin(a)"
   ]
  },
  {
   "cell_type": "code",
   "execution_count": 67,
   "id": "0544e3a7-d90e-47d1-b818-82b497c8af7c",
   "metadata": {},
   "outputs": [
    {
     "data": {
      "text/plain": [
       "np.int64(3)"
      ]
     },
     "execution_count": 67,
     "metadata": {},
     "output_type": "execute_result"
    }
   ],
   "source": [
    "# The index of the maximum element\n",
    "np.argmax(a)"
   ]
  },
  {
   "cell_type": "code",
   "execution_count": 68,
   "id": "f5fa447d-0a7d-4bb7-a0b6-e2f46a973836",
   "metadata": {},
   "outputs": [],
   "source": [
    "# *Bonus: From the array B = np.array([[12, 45, 7], [33, 5, 29]]), find the indices of the minimum and maximum elements in 1D form + 2D form\n",
    "B = np.array([[12, 45, 7], [33, 5, 29]])"
   ]
  },
  {
   "cell_type": "code",
   "execution_count": 69,
   "id": "94658418-83bc-41a5-9bd8-0ab1366b10fb",
   "metadata": {},
   "outputs": [
    {
     "data": {
      "text/plain": [
       "np.int64(4)"
      ]
     },
     "execution_count": 69,
     "metadata": {},
     "output_type": "execute_result"
    }
   ],
   "source": [
    "np.argmin(B)"
   ]
  },
  {
   "cell_type": "code",
   "execution_count": 70,
   "id": "613ef47c-ed57-4477-a78c-532e4c6a2880",
   "metadata": {},
   "outputs": [
    {
     "data": {
      "text/plain": [
       "np.int64(1)"
      ]
     },
     "execution_count": 70,
     "metadata": {},
     "output_type": "execute_result"
    }
   ],
   "source": [
    "np.argmax(B)"
   ]
  },
  {
   "cell_type": "code",
   "execution_count": 71,
   "id": "8c4cad85-ffed-44f2-89ee-39940b7b6ece",
   "metadata": {},
   "outputs": [
    {
     "name": "stdout",
     "output_type": "stream",
     "text": [
      "(np.int64(1), np.int64(1))\n"
     ]
    }
   ],
   "source": [
    "print(np.unravel_index(np.argmin(B), B.shape))"
   ]
  },
  {
   "cell_type": "code",
   "execution_count": 72,
   "id": "01d99463-309f-44b7-82a4-a72d8f338345",
   "metadata": {},
   "outputs": [
    {
     "name": "stdout",
     "output_type": "stream",
     "text": [
      "(np.int64(0), np.int64(1))\n"
     ]
    }
   ],
   "source": [
    "print(np.unravel_index(np.argmax(B), B.shape))"
   ]
  },
  {
   "cell_type": "code",
   "execution_count": 73,
   "id": "fdcf896a-444f-438f-b878-6b1b248ed1bc",
   "metadata": {},
   "outputs": [
    {
     "name": "stdout",
     "output_type": "stream",
     "text": [
      "Requirement already satisfied: matplotlib in c:\\users\\karin\\appdata\\local\\programs\\python\\python313\\lib\\site-packages (3.10.5)\n",
      "Requirement already satisfied: contourpy>=1.0.1 in c:\\users\\karin\\appdata\\local\\programs\\python\\python313\\lib\\site-packages (from matplotlib) (1.3.3)\n",
      "Requirement already satisfied: cycler>=0.10 in c:\\users\\karin\\appdata\\local\\programs\\python\\python313\\lib\\site-packages (from matplotlib) (0.12.1)\n",
      "Requirement already satisfied: fonttools>=4.22.0 in c:\\users\\karin\\appdata\\local\\programs\\python\\python313\\lib\\site-packages (from matplotlib) (4.59.1)\n",
      "Requirement already satisfied: kiwisolver>=1.3.1 in c:\\users\\karin\\appdata\\local\\programs\\python\\python313\\lib\\site-packages (from matplotlib) (1.4.9)\n",
      "Requirement already satisfied: numpy>=1.23 in c:\\users\\karin\\appdata\\local\\programs\\python\\python313\\lib\\site-packages (from matplotlib) (2.3.2)\n",
      "Requirement already satisfied: packaging>=20.0 in c:\\users\\karin\\appdata\\local\\programs\\python\\python313\\lib\\site-packages (from matplotlib) (25.0)\n",
      "Requirement already satisfied: pillow>=8 in c:\\users\\karin\\appdata\\local\\programs\\python\\python313\\lib\\site-packages (from matplotlib) (11.3.0)\n",
      "Requirement already satisfied: pyparsing>=2.3.1 in c:\\users\\karin\\appdata\\local\\programs\\python\\python313\\lib\\site-packages (from matplotlib) (3.2.3)\n",
      "Requirement already satisfied: python-dateutil>=2.7 in c:\\users\\karin\\appdata\\local\\programs\\python\\python313\\lib\\site-packages (from matplotlib) (2.9.0.post0)\n",
      "Requirement already satisfied: six>=1.5 in c:\\users\\karin\\appdata\\local\\programs\\python\\python313\\lib\\site-packages (from python-dateutil>=2.7->matplotlib) (1.17.0)\n"
     ]
    }
   ],
   "source": [
    "!pip install matplotlib"
   ]
  },
  {
   "cell_type": "code",
   "execution_count": 78,
   "id": "a332fc95-6dc3-4600-ac6f-61edb2c70a89",
   "metadata": {},
   "outputs": [
    {
     "data": {
      "text/plain": [
       "<matplotlib.image.AxesImage at 0x22abb365810>"
      ]
     },
     "execution_count": 78,
     "metadata": {},
     "output_type": "execute_result"
    },
    {
     "data": {
      "image/png": "[encoded data removed]",
      "text/plain": [
       "<Figure size 640x480 with 1 Axes>"
      ]
     },
     "metadata": {},
     "output_type": "display_data"
    }
   ],
   "source": [
    "# *Bonus: use the image from images/numpy1.png -- load it\n",
    "from skimage import io\n",
    "from PIL import Image\n",
    "photo = io.imread('numpy1.png')\n",
    "\n",
    "import matplotlib.pyplot as plt\n",
    "plt.imshow(photo)"
   ]
  },
  {
   "cell_type": "code",
   "execution_count": 79,
   "id": "ef0f6e83-3638-4717-a587-8d312fbce9c4",
   "metadata": {},
   "outputs": [
    {
     "data": {
      "text/plain": [
       "<matplotlib.image.AxesImage at 0x22abb39fd90>"
      ]
     },
     "execution_count": 79,
     "metadata": {},
     "output_type": "execute_result"
    },
    {
     "data": {
      "image/png": "[encoded data removed]",
      "text/plain": [
       "<Figure size 640x480 with 1 Axes>"
      ]
     },
     "metadata": {},
     "output_type": "display_data"
    }
   ],
   "source": [
    "#... rotate it 90 degrees\n",
    "from skimage import io\n",
    "from PIL import Image\n",
    "\n",
    "photo = io.imread('numpy1.png')\n",
    "photo_pil = Image.fromarray(photo)\n",
    "photo = photo_pil.rotate(90)\n",
    "\n",
    "import matplotlib.pyplot as plt\n",
    "plt.imshow(photo)"
   ]
  },
  {
   "cell_type": "code",
   "execution_count": null,
   "id": "5b6f93e0-0b5d-4e65-986c-a8930c81d83d",
   "metadata": {},
   "outputs": [],
   "source": []
  }
 ],
 "metadata": {
  "kernelspec": {
   "display_name": "Python 3 (ipykernel)",
   "language": "python",
   "name": "python3"
  },
  "language_info": {
   "codemirror_mode": {
    "name": "ipython",
    "version": 3
   },
   "file_extension": ".py",
   "mimetype": "text/x-python",
   "name": "python",
   "nbconvert_exporter": "python",
   "pygments_lexer": "ipython3",
   "version": "3.13.7"
  }
 },
 "nbformat": 4,
 "nbformat_minor": 5
}
